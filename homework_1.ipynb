{
 "cells": [
  {
   "cell_type": "markdown",
   "id": "68b8b778",
   "metadata": {},
   "source": [
    "### <center> Практическое задание к уроку №1"
   ]
  },
  {
   "cell_type": "markdown",
   "id": "e39b832c",
   "metadata": {},
   "source": [
    "___\n",
    "\n",
    "__Задача:__ предсказание баллов ЕГЭ ученика в зависимости от кол-ва лет стажа его репетитора\n",
    "\n",
    "___"
   ]
  },
  {
   "cell_type": "code",
   "execution_count": 1,
   "id": "5a83f16b",
   "metadata": {},
   "outputs": [],
   "source": [
    "import numpy as np\n",
    "import warnings\n",
    "warnings.filterwarnings('ignore')"
   ]
  },
  {
   "cell_type": "code",
   "execution_count": 2,
   "id": "bb7dd472",
   "metadata": {},
   "outputs": [],
   "source": [
    "X = np.array([[ 1,  1],\n",
    "              [ 1,  1],\n",
    "              [ 1,  2],\n",
    "              [ 1,  5],\n",
    "              [ 1,  3],\n",
    "              [ 1,  0],\n",
    "              [ 1,  5],\n",
    "              [ 1, 10],\n",
    "              [ 1,  1],\n",
    "              [ 1,  2]])"
   ]
  },
  {
   "cell_type": "code",
   "execution_count": 3,
   "id": "a96460f9",
   "metadata": {},
   "outputs": [
    {
     "data": {
      "text/plain": [
       "(10, 2)"
      ]
     },
     "execution_count": 3,
     "metadata": {},
     "output_type": "execute_result"
    }
   ],
   "source": [
    "X.shape"
   ]
  },
  {
   "cell_type": "code",
   "execution_count": 4,
   "id": "887c1c46",
   "metadata": {},
   "outputs": [],
   "source": [
    "y = [45, 55, 50, 55, 60, 35, 75, 80, 50, 60]"
   ]
  },
  {
   "cell_type": "code",
   "execution_count": 12,
   "id": "8de15f42",
   "metadata": {},
   "outputs": [],
   "source": [
    "def calc_mse(y, y_pred):\n",
    "    err = np.mean((y - y_pred)**2)\n",
    "    return err"
   ]
  },
  {
   "cell_type": "markdown",
   "id": "37c38da3",
   "metadata": {},
   "source": [
    "___\n",
    "\n",
    "**1. Подберите скорость обучения (eta) и количество итераций**\n",
    "\n",
    "___"
   ]
  },
  {
   "cell_type": "code",
   "execution_count": 13,
   "id": "613f3b5a",
   "metadata": {},
   "outputs": [
    {
     "data": {
      "text/plain": [
       "array([[ 1,  1],\n",
       "       [ 1,  1],\n",
       "       [ 1,  2],\n",
       "       [ 1,  5],\n",
       "       [ 1,  3],\n",
       "       [ 1,  0],\n",
       "       [ 1,  5],\n",
       "       [ 1, 10],\n",
       "       [ 1,  1],\n",
       "       [ 1,  2]])"
      ]
     },
     "execution_count": 13,
     "metadata": {},
     "output_type": "execute_result"
    }
   ],
   "source": [
    "X"
   ]
  },
  {
   "cell_type": "code",
   "execution_count": 15,
   "id": "d5a0038d",
   "metadata": {},
   "outputs": [
    {
     "name": "stdout",
     "output_type": "stream",
     "text": [
      "Number of objects = 10        \n",
      "Learning rate = 0.1        \n",
      "Initial weights = [1.  0.5] \n",
      "\n",
      "Iteration #0: W_new = [11.8 38.2], MSE = 3047.75\n",
      "Iteration #0: W_new = [11.8 38.2], MSE = 3047.75\n",
      "Iteration #10: W_new = [12651.73553914 69617.0969639 ], MSE = 18310954068.05\n",
      "Iteration #10: W_new = [12651.73553914 69617.0969639 ], MSE = 18310954068.05\n",
      "Iteration #20: W_new = [ 7732434.81888021 42641607.37852183], MSE = 9128819654907562.0\n",
      "Iteration #20: W_new = [ 7732434.81888021 42641607.37852183], MSE = 9128819654907562.0\n",
      "Iteration #30: W_new = [1.06344502e+09 5.86454589e+09], MSE = 2.327920364266843e+20\n",
      "Iteration #30: W_new = [1.06344502e+09 5.86454589e+09], MSE = 2.327920364266843e+20\n",
      "Iteration #40: W_new = [3.00127077e+10 1.65510116e+11], MSE = 2.545133529815939e+23\n",
      "Iteration #40: W_new = [3.00127077e+10 1.65510116e+11], MSE = 2.545133529815939e+23\n",
      "Iteration #50: W_new = [1.55345341e+11 8.56677968e+11], MSE = 9.572295620500076e+24\n",
      "Iteration #50: W_new = [1.55345341e+11 8.56677968e+11], MSE = 9.572295620500076e+24\n",
      "Iteration #60: W_new = [1.27742291e+11 7.04456313e+11], MSE = 9.351480126475981e+24\n",
      "Iteration #60: W_new = [1.27742291e+11 7.04456313e+11], MSE = 9.351480126475981e+24\n",
      "Iteration #70: W_new = [1.38141953e+10 7.61806995e+10], MSE = 1.64085895282839e+23\n",
      "Iteration #70: W_new = [1.38141953e+10 7.61806995e+10], MSE = 1.64085895282839e+23\n",
      "Iteration #80: W_new = [1.51674189e+08 8.36432543e+08], MSE = 3.12553353787446e+19\n",
      "Iteration #80: W_new = [1.51674189e+08 8.36432543e+08], MSE = 3.12553353787446e+19\n",
      "Iteration #90: W_new = [116395.49987587 641638.79864391], MSE = 31317286806394.35\n",
      "Iteration #90: W_new = [116395.49987587 641638.79864391], MSE = 31317286806394.35\n",
      "Iteration #100: W_new = [48.41966068 22.99883978], MSE = 53518.86\n",
      "Iteration #100: W_new = [48.41966068 22.99883978], MSE = 53518.86\n",
      "Iteration #110: W_new = [44.97715771  3.82798364], MSE = 43.97\n",
      "Iteration #110: W_new = [44.97715771  3.82798364], MSE = 43.97\n",
      "Iteration #120: W_new = [44.99895221  3.82402341], MSE = 43.97\n",
      "Iteration #120: W_new = [44.99895221  3.82402341], MSE = 43.97\n",
      "Iteration #130: W_new = [45.01387838  3.82131678], MSE = 43.97\n",
      "Iteration #130: W_new = [45.01387838  3.82131678], MSE = 43.97\n",
      "Iteration #140: W_new = [45.02437076  3.81941415], MSE = 43.97\n",
      "Iteration #140: W_new = [45.02437076  3.81941415], MSE = 43.97\n",
      "Iteration #150: W_new = [45.03192327  3.81804462], MSE = 43.97\n",
      "Iteration #150: W_new = [45.03192327  3.81804462], MSE = 43.97\n",
      "Iteration #160: W_new = [45.03747771  3.81703741], MSE = 43.97\n",
      "Iteration #160: W_new = [45.03747771  3.81703741], MSE = 43.97\n",
      "Iteration #170: W_new = [45.04164307  3.81628208], MSE = 43.97\n",
      "Iteration #170: W_new = [45.04164307  3.81628208], MSE = 43.97\n",
      "Iteration #180: W_new = [45.04482243  3.81570555], MSE = 43.97\n",
      "Iteration #180: W_new = [45.04482243  3.81570555], MSE = 43.97\n",
      "Iteration #190: W_new = [45.04728844  3.81525838], MSE = 43.97\n",
      "Iteration #190: W_new = [45.04728844  3.81525838], MSE = 43.97\n",
      "Iteration #200: W_new = [45.0492292   3.81490646], MSE = 43.97\n",
      "Iteration #200: W_new = [45.0492292   3.81490646], MSE = 43.97\n",
      "Iteration #210: W_new = [45.05077689  3.81462581], MSE = 43.97\n",
      "Iteration #210: W_new = [45.05077689  3.81462581], MSE = 43.97\n",
      "Iteration #220: W_new = [45.052026   3.8143993], MSE = 43.97\n",
      "Iteration #220: W_new = [45.052026   3.8143993], MSE = 43.97\n",
      "Iteration #230: W_new = [45.05304519  3.81421448], MSE = 43.97\n",
      "Iteration #230: W_new = [45.05304519  3.81421448], MSE = 43.97\n",
      "Iteration #240: W_new = [45.05388503  3.81406219], MSE = 43.97\n",
      "Iteration #240: W_new = [45.05388503  3.81406219], MSE = 43.97\n",
      "Iteration #250: W_new = [45.05458332  3.81393557], MSE = 43.97\n",
      "Iteration #250: W_new = [45.05458332  3.81393557], MSE = 43.97\n",
      "Iteration #260: W_new = [45.05516867  3.81382942], MSE = 43.97\n",
      "Iteration #260: W_new = [45.05516867  3.81382942], MSE = 43.97\n",
      "Iteration #270: W_new = [45.055663    3.81373978], MSE = 43.97\n",
      "Iteration #270: W_new = [45.055663    3.81373978], MSE = 43.97\n",
      "Iteration #280: W_new = [45.05608328  3.81366357], MSE = 43.97\n",
      "Iteration #280: W_new = [45.05608328  3.81366357], MSE = 43.97\n",
      "Iteration #290: W_new = [45.05644278  3.81359838], MSE = 43.97\n",
      "Iteration #290: W_new = [45.05644278  3.81359838], MSE = 43.97\n",
      "Iteration #300: W_new = [45.05675202  3.81354231], MSE = 43.97\n",
      "Iteration #300: W_new = [45.05675202  3.81354231], MSE = 43.97\n",
      "Iteration #310: W_new = [45.05701936  3.81349383], MSE = 43.97\n",
      "Iteration #310: W_new = [45.05701936  3.81349383], MSE = 43.97\n",
      "Iteration #320: W_new = [45.05725155  3.81345173], MSE = 43.97\n",
      "Iteration #320: W_new = [45.05725155  3.81345173], MSE = 43.97\n",
      "Iteration #330: W_new = [45.05745403  3.81341501], MSE = 43.97\n",
      "Iteration #330: W_new = [45.05745403  3.81341501], MSE = 43.97\n",
      "Iteration #340: W_new = [45.0576313   3.81338286], MSE = 43.97\n",
      "Iteration #340: W_new = [45.0576313   3.81338286], MSE = 43.97\n",
      "Iteration #350: W_new = [45.05778701  3.81335463], MSE = 43.97\n",
      "Iteration #350: W_new = [45.05778701  3.81335463], MSE = 43.97\n",
      "Iteration #360: W_new = [45.05792422  3.81332975], MSE = 43.97\n",
      "Iteration #360: W_new = [45.05792422  3.81332975], MSE = 43.97\n",
      "Iteration #370: W_new = [45.05804548  3.81330776], MSE = 43.97\n",
      "Iteration #370: W_new = [45.05804548  3.81330776], MSE = 43.97\n",
      "Iteration #380: W_new = [45.0581529   3.81328828], MSE = 43.97\n",
      "Iteration #380: W_new = [45.0581529   3.81328828], MSE = 43.97\n",
      "Iteration #390: W_new = [45.0582483   3.81327098], MSE = 43.97\n",
      "Iteration #390: W_new = [45.0582483   3.81327098], MSE = 43.97\n",
      "Iteration #400: W_new = [45.0583332   3.81325558], MSE = 43.97\n",
      "Iteration #400: W_new = [45.0583332   3.81325558], MSE = 43.97\n",
      "Iteration #410: W_new = [45.05840891  3.81324186], MSE = 43.97\n",
      "Iteration #410: W_new = [45.05840891  3.81324186], MSE = 43.97\n",
      "Iteration #420: W_new = [45.05847653  3.81322959], MSE = 43.97\n",
      "Iteration #420: W_new = [45.05847653  3.81322959], MSE = 43.97\n",
      "Iteration #430: W_new = [45.05853703  3.81321862], MSE = 43.97\n",
      "Iteration #430: W_new = [45.05853703  3.81321862], MSE = 43.97\n",
      "Iteration #440: W_new = [45.05859123  3.81320879], MSE = 43.97\n",
      "Iteration #440: W_new = [45.05859123  3.81320879], MSE = 43.97\n",
      "Iteration #450: W_new = [45.05863986  3.81319998], MSE = 43.97\n",
      "Iteration #450: W_new = [45.05863986  3.81319998], MSE = 43.97\n",
      "Iteration #460: W_new = [45.05868355  3.81319205], MSE = 43.97\n",
      "Iteration #460: W_new = [45.05868355  3.81319205], MSE = 43.97\n",
      "Iteration #470: W_new = [45.05872283  3.81318493], MSE = 43.97\n",
      "Iteration #470: W_new = [45.05872283  3.81318493], MSE = 43.97\n",
      "Iteration #480: W_new = [45.05875818  3.81317852], MSE = 43.97\n",
      "Iteration #480: W_new = [45.05875818  3.81317852], MSE = 43.97\n",
      "Iteration #490: W_new = [45.05879004  3.81317274], MSE = 43.97\n",
      "Iteration #490: W_new = [45.05879004  3.81317274], MSE = 43.97\n"
     ]
    }
   ],
   "source": [
    "n = X.shape[0]\n",
    "\n",
    "eta = 0.1\n",
    "n_iter = 500\n",
    "\n",
    "W = np.array([1, 0.5])\n",
    "print(f'Number of objects = {n} \\\n",
    "       \\nLearning rate = {eta} \\\n",
    "       \\nInitial weights = {W} \\n')\n",
    "\n",
    "for i in range(n_iter):\n",
    "    y_pred = np.dot(X, W)\n",
    "    err = calc_mse(y, y_pred)\n",
    "    for k in range(W.shape[0]):\n",
    "        W[k] -= eta * (1/n * 2 * X[:, k] @ (y_pred - y))\n",
    "    if i % 10 == 0:\n",
    "        eta /= 1.1\n",
    "#         print(eta)\n",
    "        print(f'Iteration #{i}: W_new = {W}, MSE = {round(err, 2)}')\n",
    "        print(f'Iteration #{i}: W_new = {W}, MSE = {round(err, 2)}')"
   ]
  },
  {
   "cell_type": "markdown",
   "id": "d663f240",
   "metadata": {},
   "source": [
    "___\n",
    "\n",
    "**2. В этом коде мы избавляемся от итераций по весам, но тут есть ошибка, исправьте ее**\n",
    "\n",
    "___"
   ]
  },
  {
   "cell_type": "code",
   "execution_count": 16,
   "id": "954b54c9",
   "metadata": {},
   "outputs": [
    {
     "data": {
      "text/plain": [
       "((2, 10), 10)"
      ]
     },
     "execution_count": 16,
     "metadata": {},
     "output_type": "execute_result"
    }
   ],
   "source": [
    "(X.T).shape, len(y)"
   ]
  },
  {
   "cell_type": "code",
   "execution_count": 17,
   "id": "62c8e395",
   "metadata": {},
   "outputs": [
    {
     "name": "stdout",
     "output_type": "stream",
     "text": [
      "Number of objects = 10        \n",
      "Learning rate = 0.01        \n",
      "Initial weights = [1.  0.5] \n",
      "\n",
      "Iteration #0: W_new = [2.08 4.27], MSE = 3047.75\n",
      "Iteration #100: W_new = [28.38281518  6.83710367], MSE = 177.43\n",
      "Iteration #200: W_new = [38.38986469  5.02247953], MSE = 65.33\n",
      "Iteration #300: W_new = [42.39314129  4.29654705], MSE = 47.39\n",
      "Iteration #400: W_new = [43.99463466  4.00614091], MSE = 44.52\n",
      "Iteration #500: W_new = [44.63530512  3.8899652 ], MSE = 44.06\n",
      "Iteration #600: W_new = [44.89160255  3.84348962], MSE = 43.98\n"
     ]
    }
   ],
   "source": [
    "n = X.shape[0]\n",
    "\n",
    "eta = 1e-2\n",
    "n_iter = 700\n",
    "\n",
    "W = np.array([1, 0.5])\n",
    "print(f'Number of objects = {n} \\\n",
    "       \\nLearning rate = {eta} \\\n",
    "       \\nInitial weights = {W} \\n')\n",
    "\n",
    "for i in range(n_iter):\n",
    "    y_pred = np.dot(X, W)\n",
    "    err = calc_mse(y, y_pred)\n",
    "#     for k in range(W.shape[0]):\n",
    "#         W[k] -= eta * (1/n * 2 * X[:, k] @ (y_pred - y))\n",
    "\n",
    "    # ИЗМЕНЕНИЯ\n",
    "#     print(X.shape, (y_pred - y).shape)\n",
    "#     print(W.shape)\n",
    "    W -= eta * (1/n * 2 * np.dot(X.T, y_pred - y))\n",
    "    #\n",
    "    if i % 100 == 0:\n",
    "        print(f'Iteration #{i}: W_new = {W}, MSE = {round(err,2)}')"
   ]
  },
  {
   "cell_type": "markdown",
   "id": "e69d00b7",
   "metadata": {},
   "source": [
    "___\n",
    "\n",
    "**3*. Вместо того, чтобы задавать количество итераций, задайте другое условие останова алгоритма - когда веса перестают изменяться меньше определенного порога $\\epsilon$.**\n",
    "\n",
    "___"
   ]
  },
  {
   "cell_type": "code",
   "execution_count": 18,
   "id": "164312ab",
   "metadata": {},
   "outputs": [
    {
     "data": {
      "text/plain": [
       "4.237924020083418"
      ]
     },
     "execution_count": 18,
     "metadata": {},
     "output_type": "execute_result"
    }
   ],
   "source": [
    "weights0 = np.array([1, 0.5])\n",
    "weights1 = np.array([5, 1.9])\n",
    "np.linalg.norm(weights0 - weights1, ord=2)"
   ]
  },
  {
   "cell_type": "code",
   "execution_count": 20,
   "id": "349fd447",
   "metadata": {},
   "outputs": [],
   "source": [
    "import matplotlib.pyplot as plt\n",
    "\n",
    "def plot_vectors(a, b):\n",
    "    fig, ax = plt.subplots(figsize=(8, 5))\n",
    "    ax.plot([a[0]], [a[1]], '*')\n",
    "    ax.plot([b[0]], [b[1]], '+')\n",
    "    ax.set_xlabel('intercept')\n",
    "    ax.set_ylabel('w1')\n",
    "    return ax"
   ]
  },
  {
   "cell_type": "code",
   "execution_count": 21,
   "id": "8cc56007",
   "metadata": {},
   "outputs": [
    {
     "data": {
      "image/png": "[encoded data removed]",
      "text/plain": [
       "<Figure size 576x360 with 1 Axes>"
      ]
     },
     "metadata": {
      "needs_background": "light"
     },
     "output_type": "display_data"
    }
   ],
   "source": [
    "ax = plot_vectors(weights0, weights1)\n",
    "ax.plot([weights0[0], weights1[0]], [weights0[1], weights1[1]]);"
   ]
  },
  {
   "cell_type": "code",
   "execution_count": 22,
   "id": "c9ca7d50",
   "metadata": {},
   "outputs": [
    {
     "data": {
      "text/plain": [
       "4.237924020083418"
      ]
     },
     "execution_count": 22,
     "metadata": {},
     "output_type": "execute_result"
    }
   ],
   "source": [
    "# a**2 + b**2 = c**2\n",
    "((5-1)**2 + (1.9-0.5)**2)**0.5"
   ]
  },
  {
   "cell_type": "code",
   "execution_count": 23,
   "id": "c76562a9",
   "metadata": {},
   "outputs": [
    {
     "data": {
      "image/png": "[encoded data removed]",
      "text/plain": [
       "<Figure size 576x360 with 1 Axes>"
      ]
     },
     "metadata": {
      "needs_background": "light"
     },
     "output_type": "display_data"
    }
   ],
   "source": [
    "ax = plot_vectors(weights0, weights1)\n",
    "ax.plot([weights0[0], weights1[0]], [weights0[1], weights0[1]], c='r')\n",
    "ax.plot([weights1[0], weights1[0]], [weights0[1], weights1[1]], c='r');"
   ]
  },
  {
   "cell_type": "code",
   "execution_count": 24,
   "id": "312223f4",
   "metadata": {},
   "outputs": [
    {
     "data": {
      "text/plain": [
       "5.4"
      ]
     },
     "execution_count": 24,
     "metadata": {},
     "output_type": "execute_result"
    }
   ],
   "source": [
    "np.linalg.norm(weights0 - weights1, ord=1)"
   ]
  },
  {
   "cell_type": "code",
   "execution_count": null,
   "id": "0aa8c59a",
   "metadata": {},
   "outputs": [],
   "source": [
    "abs(5-1) + abs(1.9-0.5)"
   ]
  },
  {
   "cell_type": "code",
   "execution_count": null,
   "id": "e48fe71b",
   "metadata": {},
   "outputs": [],
   "source": []
  }
 ],
 "metadata": {
  "kernelspec": {
   "display_name": "Python 3 (ipykernel)",
   "language": "python",
   "name": "python3"
  },
  "language_info": {
   "codemirror_mode": {
    "name": "ipython",
    "version": 3
   },
   "file_extension": ".py",
   "mimetype": "text/x-python",
   "name": "python",
   "nbconvert_exporter": "python",
   "pygments_lexer": "ipython3",
   "version": "3.9.12"
  }
 },
 "nbformat": 4,
 "nbformat_minor": 5
}
